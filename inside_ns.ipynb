{
 "cells": [
  {
   "cell_type": "code",
   "execution_count": 5,
   "metadata": {},
   "outputs": [],
   "source": [
    "from inside_ns import *\n",
    "from orbit3d import get_3dtrajectory\n",
    "import numpy as np\n",
    "import mpmath as mp\n",
    "from matplotlib import pyplot as plt\n",
    "from orbit2d import get_2dtrajectory, plot_2dtraj, get_min_approach\n",
    "from scipy.optimize import root_scalar"
   ]
  },
  {
   "cell_type": "code",
   "execution_count": 6,
   "metadata": {},
   "outputs": [],
   "source": [
    "d0, b, v0 = 1.e20, 6e3, -200.\n",
    "k = 1.32712e11\n",
    "\n",
    "r02d, v02d = mp.matrix([d0, b]), mp.matrix([v0, 0.])"
   ]
  },
  {
   "cell_type": "code",
   "execution_count": 7,
   "metadata": {},
   "outputs": [
    {
     "data": {
      "text/plain": [
       "(mpf('0.46835799591636445571296576417807955294847488403320313'),\n",
       " mpf('100.00000000000000414026543365444987940060688408189685'),\n",
       " mpf('-50102.694538317995531247071164628465914789886856404653'),\n",
       " mpf('119.99999999999999006336295922932090654326647830273052'),\n",
       " mpf('499999999999506808.4490749331174127431704482561669852'))"
      ]
     },
     "execution_count": 7,
     "metadata": {},
     "output_type": "execute_result"
    }
   ],
   "source": [
    "radius = 100.\n",
    "enter_ns(r02d, v02d, k, radius)"
   ]
  },
  {
   "cell_type": "code",
   "execution_count": 8,
   "metadata": {},
   "outputs": [
    {
     "data": {
      "image/png": "[encoded data removed]",
      "text/plain": [
       "<Figure size 432x288 with 1 Axes>"
      ]
     },
     "metadata": {
      "needs_background": "light"
     },
     "output_type": "display_data"
    }
   ],
   "source": [
    "plot_2dtraj_ns(r02d, v02d, k, radius)\n",
    "plt.axis([-2.5*radius,2.5*radius,-2.5*radius,2.5*radius]);"
   ]
  },
  {
   "cell_type": "code",
   "execution_count": null,
   "metadata": {},
   "outputs": [],
   "source": []
  }
 ],
 "metadata": {
  "kernelspec": {
   "display_name": "Python 3.8.10 64-bit",
   "language": "python",
   "name": "python3"
  },
  "language_info": {
   "codemirror_mode": {
    "name": "ipython",
    "version": 3
   },
   "file_extension": ".py",
   "mimetype": "text/x-python",
   "name": "python",
   "nbconvert_exporter": "python",
   "pygments_lexer": "ipython3",
   "version": "3.8.10"
  },
  "orig_nbformat": 4,
  "vscode": {
   "interpreter": {
    "hash": "31f2aee4e71d21fbe5cf8b01ff0e069b9275f58929596ceb00d14d90e3e16cd6"
   }
  }
 },
 "nbformat": 4,
 "nbformat_minor": 2
}
