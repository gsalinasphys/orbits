{
 "cells": [
  {
   "cell_type": "code",
   "execution_count": 2,
   "metadata": {},
   "outputs": [],
   "source": [
    "from inside_ns import enter_ns\n",
    "from orbit3d import get_3dtrajectory\n",
    "import numpy as np\n",
    "import mpmath as mp\n",
    "from matplotlib import pyplot as plt\n",
    "from orbit2d import get_2dtrajectory\n",
    "from scipy.optimize import root_scalar"
   ]
  },
  {
   "cell_type": "code",
   "execution_count": 4,
   "metadata": {},
   "outputs": [],
   "source": [
    "def get_2dtraj_in_ns(rin: mp.matrix, vin: mp.matrix, tin: float, k: float, radius: float) -> mp.matrix:\n",
    "    omega = mp.sqrt(k / radius**3)\n",
    "    rns = lambda t: mp.matrix([rin[0]*mp.cos(omega*(t-tin)) + vin[0]/omega*mp.sin(omega*(t-tin)),\n",
    "                            rin[1]*mp.cos(omega*(t-tin)) + vin[1]/omega*mp.sin(omega*(t-tin))])\n",
    "\n",
    "    vns = lambda t: mp.matrix([vin[0]*mp.cos(omega*(t-tin)) - rin[0]*omega*mp.sin(omega*(t-tin)),\n",
    "                            vin[1]*mp.cos(omega*(t-tin)) - rin[1]*omega*mp.sin(omega*(t-tin))])\n",
    "\n",
    "    return rns, vns"
   ]
  },
  {
   "cell_type": "code",
   "execution_count": 6,
   "metadata": {},
   "outputs": [],
   "source": [
    "def plot_2dtraj_in_ns(rin: mp.matrix, vin: mp.matrix, tin: float, k: float, radius: float, n_points: int = 10_000) -> mp.matrix:\n",
    "    omega = mp.sqrt(k / radius**3)\n",
    "    rns, _ = get_2dtraj_in_ns(rin, vin, tin, k, R)\n",
    "\n",
    "    tsns = mp.linspace(tin, tin + 2*mp.pi/omega, n_points)\n",
    "    rsns = np.array([rns(tns) for tns in tsns])\n",
    "\n",
    "    plt.plot(rsns.T[0], rsns.T[1])"
   ]
  },
  {
   "cell_type": "code",
   "execution_count": 7,
   "metadata": {},
   "outputs": [],
   "source": [
    "def find_ns_exit(rin: mp.matrix, vin: mp.matrix, tin: float, k: float, radius: float, n_points: int = 1_000) -> tuple:\n",
    "    omega = mp.sqrt(k / radius**3)\n",
    "    r2d, v2d = get_2dtraj_in_ns(rin, vin, tin, k, radius)\n",
    "    to_root = lambda angle: mp.norm(r2d(angle/omega+tin)) - radius\n",
    "\n",
    "    angles = mp.linspace(0, 2*mp.pi, n_points, endpoint=False)\n",
    "    to_root_vals = np.array([to_root(angle) for angle in angles])\n",
    "    index = np.where(to_root_vals[:-1]*to_root_vals[1:] < 0)[0][0]\n",
    "\n",
    "    angle_exit = root_scalar(to_root, bracket=(0, angles[index+1])).root\n",
    "\n",
    "    return r2d(angle_exit/omega+tin), v2d(angle_exit/omega+tin), angle_exit/omega+tin"
   ]
  },
  {
   "cell_type": "code",
   "execution_count": null,
   "metadata": {},
   "outputs": [],
   "source": [
    "def get_2dtraj_through_ns(d0: float, b: float, v0: float, k: float, radius: float) -> tuple:\n",
    "    infall = get_2dtrajectory(d0, b, v0, k)\n",
    "    thetain, r2din, rdotin, thetadotin, tin = enter_ns(d0, b, v0, k)\n",
    "\n",
    "    rin = mp.matrix([r2din*mp.cos(thetain), r2din*mp.sin(thetain)])\n",
    "    vin = mp.matrix([rdotin*mp.cos(thetain) - r2din*thetadotin*mp.sin(thetain),\n",
    "                    rdotin*mp.sin(thetain) + r2din*thetadotin*mp.cos(thetain)])\n",
    "\n",
    "    rout, vout, tout = find_ns_exit(rin, vin, tin, k, radius)\n",
    "\n",
    "    v0out = mp.norm(vout)\n",
    "    bout = np.cross(rout, vout) / v0out\n",
    "    d0out = mp.sqrt(mp.norm(rout)**2 - bout**2)\n",
    "\n",
    "    outfall = get_2dtrajectory(d0out, bout, v0out, k, t0=tout)\n",
    "\n",
    "    return (thetain, tout), infall, outfall\n",
    "\n",
    "    "
   ]
  }
 ],
 "metadata": {
  "kernelspec": {
   "display_name": "Python 3.10.8 64-bit ('orbits')",
   "language": "python",
   "name": "python3"
  },
  "language_info": {
   "codemirror_mode": {
    "name": "ipython",
    "version": 3
   },
   "file_extension": ".py",
   "mimetype": "text/x-python",
   "name": "python",
   "nbconvert_exporter": "python",
   "pygments_lexer": "ipython3",
   "version": "3.10.8"
  },
  "orig_nbformat": 4,
  "vscode": {
   "interpreter": {
    "hash": "8f0418d33f9fadb241c65dfc42b4d6a1c70e3b7c06ae7d86158ebe8156613d85"
   }
  }
 },
 "nbformat": 4,
 "nbformat_minor": 2
}
