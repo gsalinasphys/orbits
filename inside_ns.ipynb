{
 "cells": [
  {
   "cell_type": "code",
   "execution_count": 2,
   "metadata": {},
   "outputs": [],
   "source": [
    "from inside_ns import enter_ns\n",
    "from orbit3d import get_3dtrajectory\n",
    "import numpy as np"
   ]
  },
  {
   "cell_type": "code",
   "execution_count": 3,
   "metadata": {},
   "outputs": [],
   "source": [
    "rin, vin = np.array([1.e20, 6e3, 0.]), np.array([-200., 0., 0.])\n",
    "k = 1.32712e11"
   ]
  },
  {
   "cell_type": "code",
   "execution_count": 15,
   "metadata": {},
   "outputs": [
    {
     "name": "stderr",
     "output_type": "stream",
     "text": [
      "/home/gsalinas/GitHub/orbits/orbit3d.py:17: UserWarning: Optimal rotation is not uniquely or poorly defined for the given sets of vectors.\n",
      "  rotation, _ = Rotation.align_vectors(np.array([rin, vin]), np.array([r2d, v2d]))\n"
     ]
    }
   ],
   "source": [
    "theta_ns, r, v, t = enter_ns(rin, vin, k, 10.)"
   ]
  },
  {
   "cell_type": "code",
   "execution_count": 18,
   "metadata": {},
   "outputs": [
    {
     "name": "stderr",
     "output_type": "stream",
     "text": [
      "/home/gsalinas/GitHub/orbits/orbit3d.py:17: UserWarning: Optimal rotation is not uniquely or poorly defined for the given sets of vectors.\n",
      "  rotation, _ = Rotation.align_vectors(np.array([rin, vin]), np.array([r2d, v2d]))\n"
     ]
    }
   ],
   "source": [
    "theta0, rs, *_  = get_3dtrajectory(rin, vin, k)\n",
    "theta02, rs2, *_  = get_3dtrajectory(r, v, k)"
   ]
  },
  {
   "cell_type": "code",
   "execution_count": 19,
   "metadata": {},
   "outputs": [
    {
     "data": {
      "text/plain": [
       "(mpf('3.1397842282901385739261961423882449574682266230649575'),\n",
       " mpc(real='2.3987732975628954617870552183119220091342501148990583', imag='0.42163423077071230454851111536166830133793699903117631'))"
      ]
     },
     "execution_count": 19,
     "metadata": {},
     "output_type": "execute_result"
    }
   ],
   "source": [
    "theta0, theta02"
   ]
  },
  {
   "cell_type": "code",
   "execution_count": null,
   "metadata": {},
   "outputs": [],
   "source": []
  }
 ],
 "metadata": {
  "kernelspec": {
   "display_name": "Python 3.10.8 64-bit ('orbits')",
   "language": "python",
   "name": "python3"
  },
  "language_info": {
   "codemirror_mode": {
    "name": "ipython",
    "version": 3
   },
   "file_extension": ".py",
   "mimetype": "text/x-python",
   "name": "python",
   "nbconvert_exporter": "python",
   "pygments_lexer": "ipython3",
   "version": "3.10.8"
  },
  "orig_nbformat": 4,
  "vscode": {
   "interpreter": {
    "hash": "8f0418d33f9fadb241c65dfc42b4d6a1c70e3b7c06ae7d86158ebe8156613d85"
   }
  }
 },
 "nbformat": 4,
 "nbformat_minor": 2
}
