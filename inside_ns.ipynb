{
 "cells": [
  {
   "cell_type": "code",
   "execution_count": 28,
   "metadata": {},
   "outputs": [],
   "source": [
    "from inside_ns import enter_ns\n",
    "from orbit3d import get_3dtrajectory\n",
    "import numpy as np\n",
    "import mpmath as mp\n",
    "from matplotlib import pyplot as plt\n",
    "from orbit2d import get_2dtrajectory, plot_2dtraj\n",
    "from scipy.optimize import root_scalar"
   ]
  },
  {
   "cell_type": "code",
   "execution_count": 29,
   "metadata": {},
   "outputs": [],
   "source": [
    "def get_2dtraj_in_ns(rin: mp.matrix, vin: mp.matrix, tin: float, k: float, radius: float) -> mp.matrix:\n",
    "    omega = mp.sqrt(k / radius**3)\n",
    "    rns = lambda t: mp.matrix([rin[0]*mp.cos(omega*(t-tin)) + vin[0]/omega*mp.sin(omega*(t-tin)),\n",
    "                            rin[1]*mp.cos(omega*(t-tin)) + vin[1]/omega*mp.sin(omega*(t-tin))])\n",
    "\n",
    "    vns = lambda t: mp.matrix([vin[0]*mp.cos(omega*(t-tin)) - rin[0]*omega*mp.sin(omega*(t-tin)),\n",
    "                            vin[1]*mp.cos(omega*(t-tin)) - rin[1]*omega*mp.sin(omega*(t-tin))])\n",
    "\n",
    "    return rns, vns"
   ]
  },
  {
   "cell_type": "code",
   "execution_count": 30,
   "metadata": {},
   "outputs": [],
   "source": [
    "def plot_2dtraj_in_ns(rin: mp.matrix, vin: mp.matrix, tin: float, k: float, radius: float, n_points: int = 10_000) -> mp.matrix:\n",
    "    omega = mp.sqrt(k / radius**3)\n",
    "    rns, _ = get_2dtraj_in_ns(rin, vin, tin, k, radius)\n",
    "\n",
    "    tsns = mp.linspace(tin, tin + 2*mp.pi/omega, n_points)\n",
    "    rsns = np.array([rns(tns) for tns in tsns])\n",
    "\n",
    "    plt.plot(rsns.T[0], rsns.T[1])"
   ]
  },
  {
   "cell_type": "code",
   "execution_count": 31,
   "metadata": {},
   "outputs": [],
   "source": [
    "def find_ns_exit(rin: mp.matrix, vin: mp.matrix, tin: float, k: float, radius: float, n_points: int = 10_000) -> tuple:\n",
    "    omega = mp.sqrt(k / radius**3)\n",
    "    r2d, v2d = get_2dtraj_in_ns(rin, vin, tin, k, radius)\n",
    "    to_root = lambda angle: mp.norm(r2d(angle/omega+tin)) - radius\n",
    "\n",
    "    angles = mp.linspace(0, 2*mp.pi, n_points, endpoint=False)\n",
    "    to_root_vals = np.array([to_root(angle) for angle in angles])\n",
    "    index = np.where(to_root_vals[:-1]*to_root_vals[1:] < 0)[0][0]\n",
    "\n",
    "    angle_exit = root_scalar(to_root, bracket=(0, angles[index+1])).root\n",
    "\n",
    "    return r2d(angle_exit/omega+tin), v2d(angle_exit/omega+tin), angle_exit/omega+tin"
   ]
  },
  {
   "cell_type": "code",
   "execution_count": 32,
   "metadata": {},
   "outputs": [],
   "source": [
    "def get_2dtraj_through_ns(r02d: mp.matrix, v02d: mp.matrix, k: float, radius: float, t0: float = 0.) -> tuple:\n",
    "    infall = get_2dtrajectory(r02d, v02d, k)\n",
    "    thetain, r2din, rdotin, thetadotin, tin = enter_ns(r02d, v02d, k, radius)\n",
    "\n",
    "    rin = mp.matrix([r2din*mp.cos(thetain), r2din*mp.sin(thetain)])\n",
    "    vin = mp.matrix([rdotin*mp.cos(thetain) - r2din*thetadotin*mp.sin(thetain),\n",
    "                    rdotin*mp.sin(thetain) + r2din*thetadotin*mp.cos(thetain)])\n",
    "\n",
    "    rout, vout, tout = find_ns_exit(rin, vin, tin, k, radius)\n",
    "\n",
    "    tinfall = lambda theta: infall[-1](theta) - tout\n",
    "\n",
    "    outfall = get_2dtrajectory(rout, vout, k)\n",
    "\n",
    "    return (infall[0][0], thetain, outfall[0][1], outfall[0][2]), infall[1:-1] + (tinfall, ), outfall[1:]"
   ]
  },
  {
   "cell_type": "code",
   "execution_count": 33,
   "metadata": {},
   "outputs": [],
   "source": [
    "def plot_2dtraj_through_ns(r02d: mp.matrix, v02d: mp.matrix, k: float, radius: float, n_points: int = 10_000) -> tuple:\n",
    "    theta_info, infall, outfall = get_2dtraj_through_ns(r02d, v02d, k, radius)\n",
    "    thetas_infall = mp.linspace(theta_info[0], theta_info[1], n_points)[1:]\n",
    "    plot_2dtraj(r02d, v02d, k, n_points, (thetas_infall[1], thetas_infall[-1]))\n",
    "\n",
    "    thetain, r2din, rdotin, thetadotin, tin = enter_ns(r02d, v02d, k, radius)\n",
    "\n",
    "    rin = mp.matrix([r2din*mp.cos(thetain), r2din*mp.sin(thetain)])\n",
    "    vin = mp.matrix([rdotin*mp.cos(thetain) - r2din*thetadotin*mp.sin(thetain),\n",
    "                    rdotin*mp.sin(thetain) + r2din*thetadotin*mp.cos(thetain)])\n",
    "\n",
    "    plot_2dtraj_in_ns(rin, vin, tin, k, radius)\n",
    "\n",
    "    thetas_outfall = mp.linspace(theta_info[-2], theta_info[-1], n_points)[1:]\n",
    "    rout, vout, tout = find_ns_exit(rin, vin, tin, k, radius)\n",
    "\n",
    "    plot_2dtraj(rout, vout, k, n_points, (thetas_outfall[0], thetas_outfall[-2]))\n"
   ]
  },
  {
   "cell_type": "code",
   "execution_count": 34,
   "metadata": {},
   "outputs": [],
   "source": [
    "d0, b, v0 = 1.e20, 6e3, -200.\n",
    "k = 1.32712e11\n",
    "\n",
    "r02d, v02d = mp.matrix([d0, b]), mp.matrix([v0, 0.])"
   ]
  },
  {
   "cell_type": "code",
   "execution_count": 35,
   "metadata": {},
   "outputs": [
    {
     "data": {
      "text/plain": [
       "(mpf('1.6541470177955854836682192399166524410247802734375'),\n",
       " mpf('9.9999999999999997773316928489592310596124482669522869'),\n",
       " mpf('-110192.74023273947037213387156213579739310214296400126'),\n",
       " mpf('12000.000000000000534403937162497863306153127582999147'),\n",
       " mpf('499999999999506808.45041218549761602135541987743071627'))"
      ]
     },
     "execution_count": 35,
     "metadata": {},
     "output_type": "execute_result"
    }
   ],
   "source": [
    "radius = 10.\n",
    "enter_ns(r02d, v02d, k, radius)"
   ]
  },
  {
   "cell_type": "code",
   "execution_count": 36,
   "metadata": {},
   "outputs": [
    {
     "data": {
      "text/plain": [
       "[-25, 25, -25, 25]"
      ]
     },
     "execution_count": 36,
     "metadata": {},
     "output_type": "execute_result"
    },
    {
     "data": {
      "image/png": "[encoded data removed]",
      "text/plain": [
       "<Figure size 432x288 with 1 Axes>"
      ]
     },
     "metadata": {
      "needs_background": "light"
     },
     "output_type": "display_data"
    }
   ],
   "source": [
    "plot_2dtraj_through_ns(r02d, v02d, k, radius)\n",
    "plt.axis([-25,25,-25,25])"
   ]
  },
  {
   "cell_type": "code",
   "execution_count": null,
   "metadata": {},
   "outputs": [],
   "source": []
  }
 ],
 "metadata": {
  "kernelspec": {
   "display_name": "Python 3.8.10 64-bit",
   "language": "python",
   "name": "python3"
  },
  "language_info": {
   "codemirror_mode": {
    "name": "ipython",
    "version": 3
   },
   "file_extension": ".py",
   "mimetype": "text/x-python",
   "name": "python",
   "nbconvert_exporter": "python",
   "pygments_lexer": "ipython3",
   "version": "3.8.10"
  },
  "orig_nbformat": 4,
  "vscode": {
   "interpreter": {
    "hash": "31f2aee4e71d21fbe5cf8b01ff0e069b9275f58929596ceb00d14d90e3e16cd6"
   }
  }
 },
 "nbformat": 4,
 "nbformat_minor": 2
}
