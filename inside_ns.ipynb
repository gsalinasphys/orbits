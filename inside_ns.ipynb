{
 "cells": [
  {
   "cell_type": "code",
   "execution_count": 1,
   "metadata": {},
   "outputs": [],
   "source": [
    "from inside_ns import enter_ns\n",
    "from orbit3d import get_3dtrajectory, _twodim_params\n",
    "import numpy as np\n",
    "import mpmath as mp\n",
    "from matplotlib import pyplot as plt\n",
    "from orbit2d import get_2dtrajectory, plot_2dtraj\n",
    "from scipy.optimize import root_scalar"
   ]
  },
  {
   "cell_type": "code",
   "execution_count": 2,
   "metadata": {},
   "outputs": [],
   "source": [
    "def get_2dtraj_in_ns(rin: mp.matrix, vin: mp.matrix, tin: float, k: float, radius: float) -> mp.matrix:\n",
    "    omega = mp.sqrt(k / radius**3)\n",
    "    rns = lambda t: mp.matrix([rin[0]*mp.cos(omega*(t-tin)) + vin[0]/omega*mp.sin(omega*(t-tin)),\n",
    "                            rin[1]*mp.cos(omega*(t-tin)) + vin[1]/omega*mp.sin(omega*(t-tin))])\n",
    "\n",
    "    vns = lambda t: mp.matrix([vin[0]*mp.cos(omega*(t-tin)) - rin[0]*omega*mp.sin(omega*(t-tin)),\n",
    "                            vin[1]*mp.cos(omega*(t-tin)) - rin[1]*omega*mp.sin(omega*(t-tin))])\n",
    "\n",
    "    return rns, vns"
   ]
  },
  {
   "cell_type": "code",
   "execution_count": 3,
   "metadata": {},
   "outputs": [],
   "source": [
    "def plot_2dtraj_in_ns(rin: mp.matrix, vin: mp.matrix, tin: float, k: float, radius: float, n_points: int = 10_000) -> mp.matrix:\n",
    "    omega = mp.sqrt(k / radius**3)\n",
    "    rns, _ = get_2dtraj_in_ns(rin, vin, tin, k, radius)\n",
    "\n",
    "    tsns = mp.linspace(tin, tin + 2*mp.pi/omega, n_points)\n",
    "    rsns = np.array([rns(tns) for tns in tsns])\n",
    "\n",
    "    plt.plot(rsns.T[0], rsns.T[1])"
   ]
  },
  {
   "cell_type": "code",
   "execution_count": 4,
   "metadata": {},
   "outputs": [],
   "source": [
    "def find_ns_exit(rin: mp.matrix, vin: mp.matrix, tin: float, k: float, radius: float, n_points: int = 1_000) -> tuple:\n",
    "    omega = mp.sqrt(k / radius**3)\n",
    "    r2d, v2d = get_2dtraj_in_ns(rin, vin, tin, k, radius)\n",
    "    to_root = lambda angle: mp.norm(r2d(angle/omega+tin)) - radius\n",
    "\n",
    "    angles = mp.linspace(0, 2*mp.pi, n_points, endpoint=False)\n",
    "    to_root_vals = np.array([to_root(angle) for angle in angles])\n",
    "    index = np.where(to_root_vals[:-1]*to_root_vals[1:] < 0)[0][0]\n",
    "\n",
    "    angle_exit = root_scalar(to_root, bracket=(0, angles[index+1])).root\n",
    "\n",
    "    return r2d(angle_exit/omega+tin), v2d(angle_exit/omega+tin), angle_exit/omega+tin"
   ]
  },
  {
   "cell_type": "code",
   "execution_count": 5,
   "metadata": {},
   "outputs": [],
   "source": [
    "def get_2dtraj_through_ns(d0: float, b: float, v0: float, k: float, radius: float) -> tuple:\n",
    "    infall = get_2dtrajectory(d0, b, v0, k)\n",
    "    thetain, r2din, rdotin, thetadotin, tin = enter_ns(d0, b, v0, k, radius)\n",
    "\n",
    "    rin = mp.matrix([r2din*mp.cos(thetain), r2din*mp.sin(thetain)])\n",
    "    vin = mp.matrix([rdotin*mp.cos(thetain) - r2din*thetadotin*mp.sin(thetain),\n",
    "                    rdotin*mp.sin(thetain) + r2din*thetadotin*mp.cos(thetain)])\n",
    "\n",
    "    rout, vout, tout = find_ns_exit(rin, vin, tin, k, radius)\n",
    "\n",
    "    tinfall = lambda theta: infall[-1](theta) - tout\n",
    "\n",
    "    v0out = mp.norm(vout)\n",
    "    bout = np.cross(rout, vout) / v0out\n",
    "    d0out = mp.sqrt(mp.norm(rout)**2 - bout**2)\n",
    "\n",
    "    outfall = get_2dtrajectory(d0out, bout, v0out, k)\n",
    "\n",
    "    return (infall[0][0], thetain, outfall[0][1], outfall[0][2]), infall[1:-1] + (tinfall, ), outfall[1:]"
   ]
  },
  {
   "cell_type": "code",
   "execution_count": 23,
   "metadata": {},
   "outputs": [],
   "source": [
    "def plot_2dtraj_through_ns(d0: float, b: float, v0: float, k: float, radius: float, n_points: int = 10_000) -> tuple:\n",
    "    theta_info, infall, outfall = get_2dtraj_through_ns(d0, b, v0, k, radius)\n",
    "    thetas_infall = mp.linspace(theta_info[0], theta_info[1], n_points)[1:]\n",
    "    plot_2dtraj(d0, b, v0, k, n_points, (thetas_infall[1], thetas_infall[-1]))\n",
    "\n",
    "    thetain, r2din, rdotin, thetadotin, tin = enter_ns(d0, b, v0, k, radius)\n",
    "\n",
    "    rin = mp.matrix([r2din*mp.cos(thetain), r2din*mp.sin(thetain)])\n",
    "    vin = mp.matrix([rdotin*mp.cos(thetain) - r2din*thetadotin*mp.sin(thetain),\n",
    "                    rdotin*mp.sin(thetain) + r2din*thetadotin*mp.cos(thetain)])\n",
    "\n",
    "    plot_2dtraj_in_ns(rin, vin, tin, k, radius)\n",
    "\n",
    "    thetas_outfall = mp.linspace(theta_info[-2], theta_info[-1], n_points)[1:]\n",
    "    rout, vout, tout = find_ns_exit(rin, vin, tin, k, radius)\n",
    "    v0out = mp.norm(vout)\n",
    "    bout = np.cross(rout, vout) / v0out\n",
    "    d0out = mp.sqrt(mp.norm(rout)**2 - bout**2)\n",
    "\n",
    "    plot_2dtraj(d0out, bout, v0out, k, n_points, (thetas_outfall[0], thetas_outfall[-2]))\n"
   ]
  },
  {
   "cell_type": "code",
   "execution_count": 24,
   "metadata": {},
   "outputs": [],
   "source": [
    "d0, b, v0 = 1.e20, 6.e3, -200.\n",
    "k = 1.32712e11"
   ]
  },
  {
   "cell_type": "code",
   "execution_count": 25,
   "metadata": {},
   "outputs": [
    {
     "data": {
      "text/plain": [
       "[-25, 25, -25, 25]"
      ]
     },
     "execution_count": 25,
     "metadata": {},
     "output_type": "execute_result"
    },
    {
     "data": {
      "image/png": "[encoded data removed]",
      "text/plain": [
       "<Figure size 432x288 with 1 Axes>"
      ]
     },
     "metadata": {
      "needs_background": "light"
     },
     "output_type": "display_data"
    }
   ],
   "source": [
    "radius = 10.\n",
    "plot_2dtraj_through_ns(d0, b, v0, k, radius)\n",
    "plt.axis([-25,25,-25,25])"
   ]
  },
  {
   "cell_type": "code",
   "execution_count": 26,
   "metadata": {},
   "outputs": [],
   "source": [
    "theta_info, infall, outfall = get_2dtraj_through_ns(d0, b, v0, k, radius)"
   ]
  },
  {
   "cell_type": "code",
   "execution_count": 28,
   "metadata": {},
   "outputs": [
    {
     "data": {
      "text/plain": [
       "mpf('0.82797697076799819447678545094243444932693863997937505')"
      ]
     },
     "execution_count": 28,
     "metadata": {},
     "output_type": "execute_result"
    }
   ],
   "source": [
    "outfall[0](theta_info[2])\n",
    "theta_info[2]"
   ]
  },
  {
   "cell_type": "code",
   "execution_count": 11,
   "metadata": {},
   "outputs": [
    {
     "data": {
      "image/png": "[encoded data removed]",
      "text/plain": [
       "<Figure size 432x288 with 1 Axes>"
      ]
     },
     "metadata": {
      "needs_background": "light"
     },
     "output_type": "display_data"
    }
   ],
   "source": [
    "theta_infall = mp.linspace(theta_info[0], theta_info[1], 100)[1:]\n",
    "plot_2dtraj(d0, b, v0, k, theta_range=(theta_infall[1], theta_infall[-1]))"
   ]
  },
  {
   "cell_type": "code",
   "execution_count": 75,
   "metadata": {},
   "outputs": [
    {
     "data": {
      "text/plain": [
       "mpf('499999999999506808.45041218549761602135541987743071627')"
      ]
     },
     "execution_count": 75,
     "metadata": {},
     "output_type": "execute_result"
    }
   ],
   "source": [
    "infall[-1](thetas[1])"
   ]
  },
  {
   "cell_type": "code",
   "execution_count": 79,
   "metadata": {},
   "outputs": [],
   "source": [
    "new_t = lambda theta: infall[-1](theta) - thetas[-1]"
   ]
  },
  {
   "cell_type": "code",
   "execution_count": 80,
   "metadata": {},
   "outputs": [
    {
     "data": {
      "text/plain": [
       "mpf('-0.000094542336920285211283868649493435576429820080165770249')"
      ]
     },
     "execution_count": 80,
     "metadata": {},
     "output_type": "execute_result"
    }
   ],
   "source": [
    "new_t(thetas[1])"
   ]
  },
  {
   "cell_type": "code",
   "execution_count": 54,
   "metadata": {},
   "outputs": [
    {
     "ename": "TypeError",
     "evalue": "float() argument must be a string or a number, not 'mpc'",
     "output_type": "error",
     "traceback": [
      "\u001b[0;31m---------------------------------------------------------------------------\u001b[0m",
      "\u001b[0;31mTypeError\u001b[0m                                 Traceback (most recent call last)",
      "\u001b[1;32m/home/gsalinas/GitHub/orbits/inside_ns.ipynb Cell 8\u001b[0m in \u001b[0;36m<cell line: 3>\u001b[0;34m()\u001b[0m\n\u001b[1;32m      <a href='vscode-notebook-cell:/home/gsalinas/GitHub/orbits/inside_ns.ipynb#X12sZmlsZQ%3D%3D?line=0'>1</a>\u001b[0m \u001b[39mfrom\u001b[39;00m \u001b[39mscipy\u001b[39;00m\u001b[39m.\u001b[39;00m\u001b[39moptimize\u001b[39;00m \u001b[39mimport\u001b[39;00m root_scalar\n\u001b[1;32m      <a href='vscode-notebook-cell:/home/gsalinas/GitHub/orbits/inside_ns.ipynb#X12sZmlsZQ%3D%3D?line=1'>2</a>\u001b[0m to_root \u001b[39m=\u001b[39m \u001b[39mlambda\u001b[39;00m theta: \u001b[39mfloat\u001b[39m(outfall[\u001b[39m-\u001b[39m\u001b[39m1\u001b[39m](theta) \u001b[39m-\u001b[39m thetas[\u001b[39m-\u001b[39m\u001b[39m1\u001b[39m])\n\u001b[0;32m----> <a href='vscode-notebook-cell:/home/gsalinas/GitHub/orbits/inside_ns.ipynb#X12sZmlsZQ%3D%3D?line=2'>3</a>\u001b[0m root_scalar(to_root, bracket\u001b[39m=\u001b[39;49m(\u001b[39mfloat\u001b[39;49m(outfall[\u001b[39m0\u001b[39;49m][\u001b[39m0\u001b[39;49m]), \u001b[39mfloat\u001b[39;49m(outfall[\u001b[39m0\u001b[39;49m][\u001b[39m1\u001b[39;49m])))\n",
      "File \u001b[0;32m~/.local/lib/python3.8/site-packages/scipy/optimize/_root_scalar.py:249\u001b[0m, in \u001b[0;36mroot_scalar\u001b[0;34m(f, args, method, bracket, fprime, fprime2, x0, x1, xtol, rtol, maxiter, options)\u001b[0m\n\u001b[1;32m    246\u001b[0m         \u001b[39mraise\u001b[39;00m \u001b[39mValueError\u001b[39;00m(\u001b[39m'\u001b[39m\u001b[39mBracket needed for \u001b[39m\u001b[39m%s\u001b[39;00m\u001b[39m'\u001b[39m \u001b[39m%\u001b[39m method)\n\u001b[1;32m    248\u001b[0m     a, b \u001b[39m=\u001b[39m bracket[:\u001b[39m2\u001b[39m]\n\u001b[0;32m--> 249\u001b[0m     r, sol \u001b[39m=\u001b[39m methodc(f, a, b, args\u001b[39m=\u001b[39;49margs, \u001b[39m*\u001b[39;49m\u001b[39m*\u001b[39;49mkwargs)\n\u001b[1;32m    250\u001b[0m \u001b[39melif\u001b[39;00m meth \u001b[39min\u001b[39;00m [\u001b[39m'\u001b[39m\u001b[39msecant\u001b[39m\u001b[39m'\u001b[39m]:\n\u001b[1;32m    251\u001b[0m     \u001b[39mif\u001b[39;00m x0 \u001b[39mis\u001b[39;00m \u001b[39mNone\u001b[39;00m:\n",
      "File \u001b[0;32m~/.local/lib/python3.8/site-packages/scipy/optimize/_zeros_py.py:783\u001b[0m, in \u001b[0;36mbrentq\u001b[0;34m(f, a, b, args, xtol, rtol, maxiter, full_output, disp)\u001b[0m\n\u001b[1;32m    781\u001b[0m \u001b[39mif\u001b[39;00m rtol \u001b[39m<\u001b[39m _rtol:\n\u001b[1;32m    782\u001b[0m     \u001b[39mraise\u001b[39;00m \u001b[39mValueError\u001b[39;00m(\u001b[39m\"\u001b[39m\u001b[39mrtol too small (\u001b[39m\u001b[39m%g\u001b[39;00m\u001b[39m < \u001b[39m\u001b[39m%g\u001b[39;00m\u001b[39m)\u001b[39m\u001b[39m\"\u001b[39m \u001b[39m%\u001b[39m (rtol, _rtol))\n\u001b[0;32m--> 783\u001b[0m r \u001b[39m=\u001b[39m _zeros\u001b[39m.\u001b[39;49m_brentq(f, a, b, xtol, rtol, maxiter, args, full_output, disp)\n\u001b[1;32m    784\u001b[0m \u001b[39mreturn\u001b[39;00m results_c(full_output, r)\n",
      "\u001b[1;32m/home/gsalinas/GitHub/orbits/inside_ns.ipynb Cell 8\u001b[0m in \u001b[0;36m<lambda>\u001b[0;34m(theta)\u001b[0m\n\u001b[1;32m      <a href='vscode-notebook-cell:/home/gsalinas/GitHub/orbits/inside_ns.ipynb#X12sZmlsZQ%3D%3D?line=0'>1</a>\u001b[0m \u001b[39mfrom\u001b[39;00m \u001b[39mscipy\u001b[39;00m\u001b[39m.\u001b[39;00m\u001b[39moptimize\u001b[39;00m \u001b[39mimport\u001b[39;00m root_scalar\n\u001b[0;32m----> <a href='vscode-notebook-cell:/home/gsalinas/GitHub/orbits/inside_ns.ipynb#X12sZmlsZQ%3D%3D?line=1'>2</a>\u001b[0m to_root \u001b[39m=\u001b[39m \u001b[39mlambda\u001b[39;00m theta: \u001b[39mfloat\u001b[39;49m(outfall[\u001b[39m-\u001b[39;49m\u001b[39m1\u001b[39;49m](theta) \u001b[39m-\u001b[39;49m thetas[\u001b[39m-\u001b[39;49m\u001b[39m1\u001b[39;49m])\n\u001b[1;32m      <a href='vscode-notebook-cell:/home/gsalinas/GitHub/orbits/inside_ns.ipynb#X12sZmlsZQ%3D%3D?line=2'>3</a>\u001b[0m root_scalar(to_root, bracket\u001b[39m=\u001b[39m(\u001b[39mfloat\u001b[39m(outfall[\u001b[39m0\u001b[39m][\u001b[39m0\u001b[39m]), \u001b[39mfloat\u001b[39m(outfall[\u001b[39m0\u001b[39m][\u001b[39m1\u001b[39m])))\n",
      "\u001b[0;31mTypeError\u001b[0m: float() argument must be a string or a number, not 'mpc'"
     ]
    }
   ],
   "source": [
    "from scipy.optimize import root_scalar\n",
    "to_root = lambda theta: float(outfall[-1](theta) - thetas[-1])\n",
    "root_scalar(to_root, bracket=(float(outfall[0][0]), float(outfall[0][1])))"
   ]
  },
  {
   "cell_type": "code",
   "execution_count": 53,
   "metadata": {},
   "outputs": [
    {
     "data": {
      "text/plain": [
       "0.00017080230039711024"
      ]
     },
     "execution_count": 53,
     "metadata": {},
     "output_type": "execute_result"
    }
   ],
   "source": [
    "to_root(0.1)"
   ]
  },
  {
   "cell_type": "code",
   "execution_count": null,
   "metadata": {},
   "outputs": [],
   "source": []
  }
 ],
 "metadata": {
  "kernelspec": {
   "display_name": "Python 3.8.10 64-bit",
   "language": "python",
   "name": "python3"
  },
  "language_info": {
   "codemirror_mode": {
    "name": "ipython",
    "version": 3
   },
   "file_extension": ".py",
   "mimetype": "text/x-python",
   "name": "python",
   "nbconvert_exporter": "python",
   "pygments_lexer": "ipython3",
   "version": "3.8.10"
  },
  "orig_nbformat": 4,
  "vscode": {
   "interpreter": {
    "hash": "31f2aee4e71d21fbe5cf8b01ff0e069b9275f58929596ceb00d14d90e3e16cd6"
   }
  }
 },
 "nbformat": 4,
 "nbformat_minor": 2
}
