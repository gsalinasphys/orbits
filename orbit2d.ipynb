{
 "cells": [
  {
   "cell_type": "code",
   "execution_count": 17,
   "metadata": {},
   "outputs": [],
   "source": [
    "from math import acos, atan, cos, pi, sqrt, sin, log\n",
    "from orbit2d import get_2dtrajectory, plot_2dtraj\n",
    "from matplotlib import pyplot as plt\n",
    "from scipy.integrate import quad\n",
    "import numpy as np"
   ]
  },
  {
   "cell_type": "code",
   "execution_count": 18,
   "metadata": {},
   "outputs": [],
   "source": [
    "d0, b, v0 = 1.e12, 6e3, 200\n",
    "k = 1.32712e11"
   ]
  },
  {
   "cell_type": "code",
   "execution_count": 19,
   "metadata": {},
   "outputs": [],
   "source": [
    "# d0, b, v0 = 1.e8, 10, 1.\n",
    "# k = 1."
   ]
  },
  {
   "cell_type": "code",
   "execution_count": 20,
   "metadata": {},
   "outputs": [],
   "source": [
    "(thetai, thetaf), rs, ts = get_2dtrajectory(d0, b, v0, k)"
   ]
  },
  {
   "cell_type": "code",
   "execution_count": 21,
   "metadata": {},
   "outputs": [
    {
     "data": {
      "text/plain": [
       "(-50.0, 50.0, -25.0, 25.0)"
      ]
     },
     "execution_count": 21,
     "metadata": {},
     "output_type": "execute_result"
    },
    {
     "data": {
      "image/png": "[encoded data removed]",
      "text/plain": [
       "<Figure size 640x480 with 1 Axes>"
      ]
     },
     "metadata": {},
     "output_type": "display_data"
    }
   ],
   "source": [
    "plot_2dtraj(d0, b, v0, k)\n",
    "plt.axis([-50,50,-25,25])"
   ]
  },
  {
   "cell_type": "code",
   "execution_count": 22,
   "metadata": {},
   "outputs": [
    {
     "data": {
      "text/plain": [
       "array([1.00000193e+12, 5.10461244e+03, 1.31287370e+03, 5.89941164e+02,\n",
       "       3.34187033e+02, 2.15135818e+02, 1.50238249e+02, 1.11014095e+02,\n",
       "       8.55133591e+01, 6.80090155e+01, 5.54775160e+01, 4.62002958e+01,\n",
       "       3.91419106e+01, 3.36483247e+01, 2.92899507e+01, 2.57751890e+01,\n",
       "       2.29004690e+01, 2.05201870e+01, 1.85279742e+01, 1.68446647e+01,\n",
       "       1.54103582e+01, 1.41790600e+01, 1.31149828e+01, 1.21899481e+01,\n",
       "       1.13815280e+01, 1.06716958e+01, 1.00458331e+01, 9.49198800e+00,\n",
       "       9.00031660e+00, 8.56265587e+00, 8.17219499e+00, 7.82321961e+00,\n",
       "       7.51091130e+00, 7.23118889e+00, 6.98058225e+00, 6.75613105e+00,\n",
       "       6.55530309e+00, 6.37592813e+00, 6.21614397e+00, 6.07435232e+00,\n",
       "       5.94918263e+00, 5.83946235e+00, 5.74419241e+00, 5.66252715e+00,\n",
       "       5.59375779e+00, 5.53729903e+00, 5.49267823e+00, 5.45952689e+00,\n",
       "       5.43757411e+00, 5.42664185e+00, 5.42664185e+00, 5.43757411e+00,\n",
       "       5.45952689e+00, 5.49267823e+00, 5.53729903e+00, 5.59375779e+00,\n",
       "       5.66252715e+00, 5.74419241e+00, 5.83946235e+00, 5.94918263e+00,\n",
       "       6.07435232e+00, 6.21614397e+00, 6.37592813e+00, 6.55530309e+00,\n",
       "       6.75613105e+00, 6.98058225e+00, 7.23118889e+00, 7.51091130e+00,\n",
       "       7.82321961e+00, 8.17219499e+00, 8.56265587e+00, 9.00031660e+00,\n",
       "       9.49198800e+00, 1.00458331e+01, 1.06716958e+01, 1.13815280e+01,\n",
       "       1.21899481e+01, 1.31149828e+01, 1.41790600e+01, 1.54103582e+01,\n",
       "       1.68446647e+01, 1.85279742e+01, 2.05201870e+01, 2.29004690e+01,\n",
       "       2.57751890e+01, 2.92899507e+01, 3.36483247e+01, 3.91419106e+01,\n",
       "       4.62002958e+01, 5.54775160e+01, 6.80090155e+01, 8.55133591e+01,\n",
       "       1.11014095e+02, 1.50238249e+02, 2.15135818e+02, 3.34187033e+02,\n",
       "       5.89941164e+02, 1.31287370e+03, 5.10461244e+03, 1.00000193e+12])"
      ]
     },
     "execution_count": 22,
     "metadata": {},
     "output_type": "execute_result"
    }
   ],
   "source": [
    "thetas = np.linspace(thetai, thetaf, 100)\n",
    "rs(thetas)"
   ]
  },
  {
   "cell_type": "code",
   "execution_count": 23,
   "metadata": {},
   "outputs": [
    {
     "data": {
      "text/plain": [
       "(array([mpf('4996885671.7421481697602')], dtype=object),\n",
       " array([mpf('1.0')], dtype=object))"
      ]
     },
     "execution_count": 23,
     "metadata": {},
     "output_type": "execute_result"
    }
   ],
   "source": [
    "ts(np.array([1e-5]))"
   ]
  },
  {
   "cell_type": "code",
   "execution_count": 29,
   "metadata": {},
   "outputs": [],
   "source": [
    "from math import atanh\n",
    "\n",
    "def f(x, a):\n",
    "    return -2*(a+x)/a**2/x/(2*a+x) - log(x)/a**3 + log(2*a+x)/a**3\n"
   ]
  },
  {
   "cell_type": "code",
   "execution_count": 30,
   "metadata": {},
   "outputs": [
    {
     "data": {
      "text/plain": [
       "4996877002.091547"
      ]
     },
     "execution_count": 30,
     "metadata": {},
     "output_type": "execute_result"
    }
   ],
   "source": [
    "semilatus = (v0 * b) ** 2 / k\n",
    "eccentricity = np.sqrt(v0**2 * semilatus / k  + 1)\n",
    "thetai = atan(b / d0)\n",
    "theta0 = thetai + np.sign(b)*acos(1/eccentricity * (semilatus / sqrt(d0**2 + b**2) - 1))\n",
    "\n",
    "semilatus**2/(v0*b)*(f(1e-5, eccentricity*sin(theta0))-f(thetai, eccentricity*sin(theta0)))"
   ]
  },
  {
   "cell_type": "code",
   "execution_count": 26,
   "metadata": {},
   "outputs": [
    {
     "name": "stderr",
     "output_type": "stream",
     "text": [
      "/tmp/ipykernel_66633/569419442.py:7: IntegrationWarning: The occurrence of roundoff error is detected, which prevents \n",
      "  the requested tolerance from being achieved.  The error may be \n",
      "  underestimated.\n",
      "  scipy.integrate.quad(dt, thetai, 1e-5)\n"
     ]
    },
    {
     "data": {
      "text/plain": [
       "(4996883495.805637, 2950.3744869485354)"
      ]
     },
     "execution_count": 26,
     "metadata": {},
     "output_type": "execute_result"
    }
   ],
   "source": [
    "import scipy.integrate\n",
    "\n",
    "def dt(theta):\n",
    "    return semilatus**2 / (v0*b) / (1+eccentricity*cos(theta-theta0))**2\n",
    "\n",
    "scipy.integrate.quad(dt, thetai, 1e-5)"
   ]
  },
  {
   "cell_type": "code",
   "execution_count": 27,
   "metadata": {},
   "outputs": [
    {
     "data": {
      "text/plain": [
       "(4996877002.166753, 31.1304302662611)"
      ]
     },
     "execution_count": 27,
     "metadata": {},
     "output_type": "execute_result"
    }
   ],
   "source": [
    "def dt2(theta):\n",
    "    return semilatus**2 / (v0*b) / (sqrt(1-eccentricity**(-2))*eccentricity*theta + theta**2/2)**2\n",
    "\n",
    "scipy.integrate.quad(dt2, thetai, 1e-5)"
   ]
  },
  {
   "cell_type": "code",
   "execution_count": 28,
   "metadata": {},
   "outputs": [
    {
     "data": {
      "text/plain": [
       "(4996877002.166753, 31.1304302662611)"
      ]
     },
     "execution_count": 28,
     "metadata": {},
     "output_type": "execute_result"
    }
   ],
   "source": [
    "def dt3(theta):\n",
    "    return semilatus**2 / (v0*b) / (sqrt(1-eccentricity**(-2))*eccentricity*theta + theta**2/2)**2 \\\n",
    "        -1/6*sqrt(1-eccentricity**(-2))*eccentricity*theta**3 - theta**4/24\n",
    "\n",
    "scipy.integrate.quad(dt3, thetai, 1e-5)"
   ]
  },
  {
   "cell_type": "code",
   "execution_count": null,
   "metadata": {},
   "outputs": [],
   "source": []
  }
 ],
 "metadata": {
  "kernelspec": {
   "display_name": "Python 3.10.8 64-bit ('orbits')",
   "language": "python",
   "name": "python3"
  },
  "language_info": {
   "codemirror_mode": {
    "name": "ipython",
    "version": 3
   },
   "file_extension": ".py",
   "mimetype": "text/x-python",
   "name": "python",
   "nbconvert_exporter": "python",
   "pygments_lexer": "ipython3",
   "version": "3.10.8"
  },
  "orig_nbformat": 4,
  "vscode": {
   "interpreter": {
    "hash": "8f0418d33f9fadb241c65dfc42b4d6a1c70e3b7c06ae7d86158ebe8156613d85"
   }
  }
 },
 "nbformat": 4,
 "nbformat_minor": 2
}
